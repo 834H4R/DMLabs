{
 "cells": [
  {
   "cell_type": "code",
   "execution_count": 8,
   "metadata": {},
   "outputs": [
    {
     "name": "stdout",
     "output_type": "stream",
     "text": [
      "Вариант 12\n",
      "Создайте словарь для хранения информации о книге: название, авторы, аннотация, год издания, издательство, количество страниц.  Выведите каждый фрагмент информации, хранящейся в словаре.\n",
      "Создать список, элементами которого являются словари из части 1, количество элементов списка спросить у пользователя. Реализовать проверку, чтобы количество элементов было положительным числом не менее 10. Значения полей словарей вводится пользователем.\n"
     ]
    }
   ],
   "source": [
    "print('Вариант 12\\nСоздайте словарь для хранения информации о книге: название, авторы, аннотация, год издания, издательство, количество страниц.  Выведите каждый фрагмент информации, хранящейся в словаре.\\nСоздать список, элементами которого являются словари из части 1, количество элементов списка спросить у пользователя. Реализовать проверку, чтобы количество элементов было положительным числом не менее 10. Значения полей словарей вводится пользователем.')"
   ]
  },
  {
   "cell_type": "code",
   "execution_count": 8,
   "metadata": {},
   "outputs": [],
   "source": [
    "book = {'Title':'One Hundred Years of Solitude',\n",
    "        'Author':'Gabriel García Márquez',\n",
    "        'Annotation':'One Hundred Years of Solitude is the story of seven generations of the Buendía Family in the town of Macondo. The founding patriarch of Macondo, José Arcadio Buendía, and Úrsula Iguarán, his wife (and first cousin), leave Riohacha, Colombia, after José Arcadio kills Prudencio Aguilar after a cockfight for suggesting José Arcadio was impotent. One night of their emigration journey, while camping on a riverbank, José Arcadio dreams of \"Macondo\", a city of mirrors that reflected the world in and about it. Upon awakening, he decides to establish Macondo at the riverside; after days of wandering the jungle, his founding of Macondo is utopic',\n",
    "        'PublishingYear':'1967',\n",
    "        'PublishingHouse':'Harper & Row',\n",
    "        'CountOfPages':'480'}"
   ]
  },
  {
   "cell_type": "code",
   "execution_count": 18,
   "metadata": {},
   "outputs": [
    {
     "name": "stdout",
     "output_type": "stream",
     "text": [
      "Title  -  One Hundred Years of Solitude\n",
      "Author  -  Gabriel García Márquez\n",
      "Annotation  -  One Hundred Years of Solitude is the story of seven generations of the Buendía Family in the town of Macondo. The founding patriarch of Macondo, José Arcadio Buendía, and Úrsula Iguarán, his wife (and first cousin), leave Riohacha, Colombia, after José Arcadio kills Prudencio Aguilar after a cockfight for suggesting José Arcadio was impotent. One night of their emigration journey, while camping on a riverbank, José Arcadio dreams of \"Macondo\", a city of mirrors that reflected the world in and about it. Upon awakening, he decides to establish Macondo at the riverside; after days of wandering the jungle, his founding of Macondo is utopic\n",
      "PublishingYear  -  1967\n",
      "PublishingHouse  -  Harper & Row\n",
      "CountOfPages  -  480\n"
     ]
    }
   ],
   "source": [
    "for key, value in book.items():\n",
    "    print(key, ' - ', value)"
   ]
  },
  {
   "cell_type": "code",
   "execution_count": 19,
   "metadata": {},
   "outputs": [],
   "source": [
    "books = [book]"
   ]
  },
  {
   "cell_type": "code",
   "execution_count": 20,
   "metadata": {},
   "outputs": [
    {
     "name": "stdout",
     "output_type": "stream",
     "text": [
      "How many books you want to add to list? : 4\n",
      "Whoops, add some more\n",
      "How many books you want to add to list? : 10\n"
     ]
    }
   ],
   "source": [
    "count = int(input('How many books you want to add to list? : '))\n",
    "while count < 10:\n",
    "    print('Whoops, add some more')\n",
    "    count = int(input('How many books you want to add to list? : '))"
   ]
  },
  {
   "cell_type": "code",
   "execution_count": 21,
   "metadata": {},
   "outputs": [
    {
     "name": "stdout",
     "output_type": "stream",
     "text": [
      "Title: 1\n",
      "Author: 1\n",
      "Annotation: 1\n",
      "PublishingYear: 1\n",
      "PublishingHouse: 1\n",
      "CountOfPages: 1\n",
      "\n",
      "\n",
      "Title: 2\n",
      "Author: 2\n",
      "Annotation: 2\n",
      "PublishingYear: 2\n",
      "PublishingHouse: 2\n",
      "CountOfPages: 2\n",
      "\n",
      "\n",
      "Title: 3\n",
      "Author: 3\n",
      "Annotation: 3\n",
      "PublishingYear: 3\n",
      "PublishingHouse: 3\n",
      "CountOfPages: 3\n",
      "\n",
      "\n",
      "Title: 4\n",
      "Author: 4\n",
      "Annotation: 4\n",
      "PublishingYear: 4\n",
      "PublishingHouse: 4\n",
      "CountOfPages: 4\n",
      "\n",
      "\n",
      "Title: 5\n",
      "Author: 5\n",
      "Annotation: 5\n",
      "PublishingYear: 5\n",
      "PublishingHouse: 5\n",
      "CountOfPages: 5\n",
      "\n",
      "\n",
      "Title: 6\n",
      "Author: 6\n",
      "Annotation: 6\n",
      "PublishingYear: 6\n",
      "PublishingHouse: 6\n",
      "CountOfPages: 6\n",
      "\n",
      "\n",
      "Title: 7\n",
      "Author: 7\n",
      "Annotation: 7\n",
      "PublishingYear: 7\n",
      "PublishingHouse: 7\n",
      "CountOfPages: 7\n",
      "\n",
      "\n",
      "Title: 8\n",
      "Author: 8\n",
      "Annotation: 8\n",
      "PublishingYear: 8\n",
      "PublishingHouse: 8\n",
      "CountOfPages: 8\n",
      "\n",
      "\n",
      "Title: 9\n",
      "Author: 9\n",
      "Annotation: 9\n",
      "PublishingYear: 9\n",
      "PublishingHouse: 9\n",
      "CountOfPages: 9\n",
      "\n",
      "\n",
      "Title: 10\n",
      "Author: 10\n",
      "Annotation: 10\n",
      "PublishingYear: 10\n",
      "PublishingHouse: 10\n",
      "CountOfPages: 10\n",
      "\n",
      "\n"
     ]
    }
   ],
   "source": [
    "i = 0\n",
    "while i < count:\n",
    "    tmp = {'Title': input('Title: '),\n",
    "           'Author': input('Author: '),\n",
    "           'Annotation': input('Annotation: '),\n",
    "           'PublishingYear': input('PublishingYear: '),\n",
    "           'PublishingHouse': input('PublishingHouse: '),\n",
    "           'CountOfPages': input('CountOfPages: ')}\n",
    "    books.append(tmp)\n",
    "    print('\\n')\n",
    "    i+=1"
   ]
  },
  {
   "cell_type": "code",
   "execution_count": 22,
   "metadata": {},
   "outputs": [
    {
     "name": "stdout",
     "output_type": "stream",
     "text": [
      "Title - One Hundred Years of Solitude\n",
      "Author - Gabriel García Márquez\n",
      "Annotation - One Hundred Years of Solitude is the story of seven generations of the Buendía Family in the town of Macondo. The founding patriarch of Macondo, José Arcadio Buendía, and Úrsula Iguarán, his wife (and first cousin), leave Riohacha, Colombia, after José Arcadio kills Prudencio Aguilar after a cockfight for suggesting José Arcadio was impotent. One night of their emigration journey, while camping on a riverbank, José Arcadio dreams of \"Macondo\", a city of mirrors that reflected the world in and about it. Upon awakening, he decides to establish Macondo at the riverside; after days of wandering the jungle, his founding of Macondo is utopic\n",
      "PublishingYear - 1967\n",
      "PublishingHouse - Harper & Row\n",
      "CountOfPages - 480\n",
      "\n",
      "\n",
      "Title - 1\n",
      "Author - 1\n",
      "Annotation - 1\n",
      "PublishingYear - 1\n",
      "PublishingHouse - 1\n",
      "CountOfPages - 1\n",
      "\n",
      "\n",
      "Title - 2\n",
      "Author - 2\n",
      "Annotation - 2\n",
      "PublishingYear - 2\n",
      "PublishingHouse - 2\n",
      "CountOfPages - 2\n",
      "\n",
      "\n",
      "Title - 3\n",
      "Author - 3\n",
      "Annotation - 3\n",
      "PublishingYear - 3\n",
      "PublishingHouse - 3\n",
      "CountOfPages - 3\n",
      "\n",
      "\n",
      "Title - 4\n",
      "Author - 4\n",
      "Annotation - 4\n",
      "PublishingYear - 4\n",
      "PublishingHouse - 4\n",
      "CountOfPages - 4\n",
      "\n",
      "\n",
      "Title - 5\n",
      "Author - 5\n",
      "Annotation - 5\n",
      "PublishingYear - 5\n",
      "PublishingHouse - 5\n",
      "CountOfPages - 5\n",
      "\n",
      "\n",
      "Title - 6\n",
      "Author - 6\n",
      "Annotation - 6\n",
      "PublishingYear - 6\n",
      "PublishingHouse - 6\n",
      "CountOfPages - 6\n",
      "\n",
      "\n",
      "Title - 7\n",
      "Author - 7\n",
      "Annotation - 7\n",
      "PublishingYear - 7\n",
      "PublishingHouse - 7\n",
      "CountOfPages - 7\n",
      "\n",
      "\n",
      "Title - 8\n",
      "Author - 8\n",
      "Annotation - 8\n",
      "PublishingYear - 8\n",
      "PublishingHouse - 8\n",
      "CountOfPages - 8\n",
      "\n",
      "\n",
      "Title - 9\n",
      "Author - 9\n",
      "Annotation - 9\n",
      "PublishingYear - 9\n",
      "PublishingHouse - 9\n",
      "CountOfPages - 9\n",
      "\n",
      "\n",
      "Title - 10\n",
      "Author - 10\n",
      "Annotation - 10\n",
      "PublishingYear - 10\n",
      "PublishingHouse - 10\n",
      "CountOfPages - 10\n",
      "\n",
      "\n"
     ]
    }
   ],
   "source": [
    "for book in books:\n",
    "    for key,value in book.items():\n",
    "        print(key,'-',value)\n",
    "    print('\\n')"
   ]
  },
  {
   "cell_type": "code",
   "execution_count": null,
   "metadata": {},
   "outputs": [],
   "source": []
  },
  {
   "cell_type": "code",
   "execution_count": null,
   "metadata": {},
   "outputs": [],
   "source": []
  }
 ],
 "metadata": {
  "kernelspec": {
   "display_name": "Python 3",
   "language": "python",
   "name": "python3"
  },
  "language_info": {
   "codemirror_mode": {
    "name": "ipython",
    "version": 3
   },
   "file_extension": ".py",
   "mimetype": "text/x-python",
   "name": "python",
   "nbconvert_exporter": "python",
   "pygments_lexer": "ipython3",
   "version": "3.8.3"
  }
 },
 "nbformat": 4,
 "nbformat_minor": 4
}
