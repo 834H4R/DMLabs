{
 "cells": [
  {
   "cell_type": "code",
   "execution_count": 51,
   "metadata": {},
   "outputs": [],
   "source": [
    "#areas\n",
    "hall = 9.83\n",
    "kit = 15.3\n",
    "liv = 19.3\n",
    "bed = 9.21\n",
    "bath = 8.75\n",
    "areas = [hall,kit,liv,bed,bath]"
   ]
  },
  {
   "cell_type": "code",
   "execution_count": 52,
   "metadata": {},
   "outputs": [],
   "source": [
    "#rooms\n",
    "rooms = ['hall','kitchen','living room','bedroom','bathroom']\n",
    "house = []\n",
    "i = 0\n",
    "while i < len(areas):\n",
    "    house.append([rooms[i],areas[i]])\n",
    "    i+=1"
   ]
  },
  {
   "cell_type": "code",
   "execution_count": 53,
   "metadata": {},
   "outputs": [
    {
     "data": {
      "text/plain": [
       "[['hall', 9.83],\n",
       " ['kitchen', 15.3],\n",
       " ['living room', 19.3],\n",
       " ['bedroom', 9.21],\n",
       " ['bathroom', 8.75]]"
      ]
     },
     "execution_count": 53,
     "metadata": {},
     "output_type": "execute_result"
    }
   ],
   "source": [
    "#two dimensional list\n",
    "house"
   ]
  },
  {
   "cell_type": "code",
   "execution_count": 54,
   "metadata": {},
   "outputs": [
    {
     "name": "stdout",
     "output_type": "stream",
     "text": [
      "living room  -  19.3\n"
     ]
    }
   ],
   "source": [
    "#info about living room\n",
    "for room in house:\n",
    "    if room[0] == 'living room':\n",
    "        print(room[0],' - ',room[1])"
   ]
  },
  {
   "cell_type": "code",
   "execution_count": 55,
   "metadata": {},
   "outputs": [
    {
     "name": "stdout",
     "output_type": "stream",
     "text": [
      "hall  -  9.83\n",
      "bathroom  -  8.75\n"
     ]
    }
   ],
   "source": [
    "#info about favorite rooms\n",
    "fav_rooms = ['hall','bathroom']\n",
    "for room in house:\n",
    "    if(room[0] in fav_rooms):\n",
    "        print(room[0], ' - ', room[1])"
   ]
  },
  {
   "cell_type": "code",
   "execution_count": 56,
   "metadata": {},
   "outputs": [
    {
     "name": "stdout",
     "output_type": "stream",
     "text": [
      "kitchen  -  15.3\n",
      "living room  -  19.3\n",
      "count of rooms, whre area > 10 =  2\n"
     ]
    }
   ],
   "source": [
    "#function to count rooms, where area > 10\n",
    "def countRooms(_house):\n",
    "    count = 0\n",
    "    for room in _house:\n",
    "        if(room[1] > 10):\n",
    "            count+=1\n",
    "            print(room[0],' - ',room[1])\n",
    "    print('count of rooms, whre area > 10 = ',count)\n",
    "countRooms(house)"
   ]
  },
  {
   "cell_type": "code",
   "execution_count": 65,
   "metadata": {},
   "outputs": [
    {
     "name": "stdout",
     "output_type": "stream",
     "text": [
      "living room\n",
      "bathroom\n"
     ]
    }
   ],
   "source": [
    "#function to output rooms, where name length > 8 and ends with 'room'\n",
    "def roomNames(_house):\n",
    "    for room in _house:\n",
    "        room_name = room[0]\n",
    "        if(room_name[-4:] == 'room' and len(room_name) >=8):\n",
    "            print(room_name)\n",
    "roomNames(house)"
   ]
  },
  {
   "cell_type": "code",
   "execution_count": 69,
   "metadata": {},
   "outputs": [
    {
     "name": "stdout",
     "output_type": "stream",
     "text": [
      "ffdf\n",
      "iui\n"
     ]
    }
   ],
   "source": [
    "#string length is 2 or more and the first and last character are same from a givenlist of strings.\n",
    "#so what should i do? \n",
    "#something like this?\n",
    "strings = ['sbvvc', 'fs','ffdf','a','y','lczz','iui']\n",
    "def firstAndLastCharacter(stringList):\n",
    "    for string in stringList:\n",
    "        if(len(string) >=2 and string[0] == string[-1]):\n",
    "            print(string)\n",
    "firstAndLastCharacter(strings)"
   ]
  },
  {
   "cell_type": "code",
   "execution_count": 78,
   "metadata": {},
   "outputs": [
    {
     "data": {
      "text/plain": [
       "[['hall', 9.83],\n",
       " ['kitchen', 15.3],\n",
       " ['living room', 19.3],\n",
       " ['bedroom', 9.21],\n",
       " ['bathroom', 8.75],\n",
       " ['kitchen', 15.3],\n",
       " ['kitchen', 15.3],\n",
       " ['living room', 19.3],\n",
       " ['kitchen', 15.3],\n",
       " ['living room', 19.3]]"
      ]
     },
     "execution_count": 78,
     "metadata": {},
     "output_type": "execute_result"
    }
   ],
   "source": [
    "house.append(['kitchen',15.3])\n",
    "house.append(['living room',19.3])\n",
    "house"
   ]
  },
  {
   "cell_type": "code",
   "execution_count": 87,
   "metadata": {},
   "outputs": [
    {
     "name": "stdout",
     "output_type": "stream",
     "text": [
      "[['kitchen', 15.3], ['hall', 9.83], ['bathroom', 8.75], ['living room', 19.3], ['bedroom', 9.21]]\n"
     ]
    }
   ],
   "source": [
    "#function to remove duplicates\n",
    "def removeDuplicates(_house):\n",
    "    a ={(i, j) for i, j in _house}\n",
    "    house = [[i,j] for i,j in a]\n",
    "    return house\n",
    "house = removeDuplicates(house)\n",
    "print(house)"
   ]
  },
  {
   "cell_type": "code",
   "execution_count": null,
   "metadata": {},
   "outputs": [],
   "source": []
  }
 ],
 "metadata": {
  "kernelspec": {
   "display_name": "Python 3",
   "language": "python",
   "name": "python3"
  },
  "language_info": {
   "codemirror_mode": {
    "name": "ipython",
    "version": 3
   },
   "file_extension": ".py",
   "mimetype": "text/x-python",
   "name": "python",
   "nbconvert_exporter": "python",
   "pygments_lexer": "ipython3",
   "version": "3.8.3"
  }
 },
 "nbformat": 4,
 "nbformat_minor": 4
}
