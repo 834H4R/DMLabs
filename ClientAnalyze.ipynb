{
 "cells": [
  {
   "cell_type": "code",
   "execution_count": 1,
   "metadata": {},
   "outputs": [],
   "source": [
    "import numpy as np"
   ]
  },
  {
   "cell_type": "code",
   "execution_count": 12,
   "metadata": {},
   "outputs": [
    {
     "data": {
      "text/plain": [
       "array(['Barnes', 'Abramson', 'Macduff', 'Johnson', 'Andrews', 'Lewin',\n",
       "       'Brown'], dtype='<U8')"
      ]
     },
     "execution_count": 12,
     "metadata": {},
     "output_type": "execute_result"
    }
   ],
   "source": [
    "C_names = np.array(\"Barnes Abramson Macduff Johnson Andrews Lewin Brown\".split())\n",
    "C_names"
   ]
  },
  {
   "cell_type": "code",
   "execution_count": 26,
   "metadata": {},
   "outputs": [
    {
     "data": {
      "text/plain": [
       "array([[337, 263, 174, 296, 195, 224],\n",
       "       [346, 126, 247, 125, 337, 177],\n",
       "       [267, 232, 167, 176, 250, 252],\n",
       "       [145, 246, 120, 211, 186, 257],\n",
       "       [307, 334, 120, 210, 102, 263],\n",
       "       [342, 178, 152, 163, 184, 234],\n",
       "       [323, 107, 175, 249, 164, 221]])"
      ]
     },
     "execution_count": 26,
     "metadata": {},
     "output_type": "execute_result"
    }
   ],
   "source": [
    "#1. Сгенерировать NumPy массив (“Customer’s roaming call duration”),\n",
    "#содержащий эту информацию, используя подходящий метод модуля random.\n",
    "C_duration = np.random.randint(100,350,(7,6))\n",
    "C_duration"
   ]
  },
  {
   "cell_type": "code",
   "execution_count": 27,
   "metadata": {},
   "outputs": [
    {
     "data": {
      "text/plain": [
       "array([[346, 126, 247, 125, 337, 177],\n",
       "       [145, 246, 120, 211, 186, 257]])"
      ]
     },
     "execution_count": 27,
     "metadata": {},
     "output_type": "execute_result"
    }
   ],
   "source": [
    "#2. Выбрать из него (вывести) все строки, содержащие информацию о\n",
    "#клиентах Abramson и Johnson.\n",
    "C_duration[(C_names == 'Abramson') | (C_names == 'Johnson')]"
   ]
  },
  {
   "cell_type": "code",
   "execution_count": 28,
   "metadata": {},
   "outputs": [
    {
     "data": {
      "text/plain": [
       "array([[337, 263, 174, 296, 195, 224],\n",
       "       [346, 126, 247, 125, 337, 177],\n",
       "       [145, 246, 120, 211, 186, 257],\n",
       "       [307, 334, 120, 210, 102, 263],\n",
       "       [323, 107, 175, 249, 164, 221]])"
      ]
     },
     "execution_count": 28,
     "metadata": {},
     "output_type": "execute_result"
    }
   ],
   "source": [
    "#3. Выбрать информацию обо всех клиентах, кроме Macduff и Lewin\n",
    "C_duration[(C_names != 'Macduff') & (C_names != 'Lewin')]"
   ]
  },
  {
   "cell_type": "code",
   "execution_count": 29,
   "metadata": {},
   "outputs": [
    {
     "data": {
      "text/plain": [
       "array([[107, 175, 249]])"
      ]
     },
     "execution_count": 29,
     "metadata": {},
     "output_type": "execute_result"
    }
   ],
   "source": [
    "#4. Вывести информацию о клиенте Brown за период 2-4 месяцы\n",
    "C_duration[C_names == 'Brown', 1:4] "
   ]
  },
  {
   "cell_type": "code",
   "execution_count": 30,
   "metadata": {},
   "outputs": [
    {
     "data": {
      "text/plain": [
       "array([[346, 247, 337],\n",
       "       [267, 167, 250],\n",
       "       [145, 120, 186],\n",
       "       [307, 120, 102],\n",
       "       [342, 152, 184],\n",
       "       [323, 175, 164]])"
      ]
     },
     "execution_count": 30,
     "metadata": {},
     "output_type": "execute_result"
    }
   ],
   "source": [
    "#5. Вывести информацию обо всех клиентах, кроме Barnes за нечетные\n",
    "#месяцы.\n",
    "C_duration[C_names != 'Barnes', 0::2]"
   ]
  },
  {
   "cell_type": "code",
   "execution_count": 31,
   "metadata": {},
   "outputs": [
    {
     "data": {
      "text/plain": [
       "array([[539.2, 420.8, 278.4, 473.6, 312. , 358.4],\n",
       "       [553.6, 201.6, 395.2, 200. , 539.2, 283.2],\n",
       "       [427.2, 371.2, 267.2, 281.6, 400. , 403.2],\n",
       "       [232. , 393.6, 192. , 337.6, 297.6, 411.2],\n",
       "       [491.2, 534.4, 192. , 336. , 163.2, 420.8],\n",
       "       [547.2, 284.8, 243.2, 260.8, 294.4, 374.4],\n",
       "       [516.8, 171.2, 280. , 398.4, 262.4, 353.6]])"
      ]
     },
     "execution_count": 31,
     "metadata": {},
     "output_type": "execute_result"
    }
   ],
   "source": [
    "#6. Стоимость минуты разговора в роуминге составляет 1.6$. Создайте\n",
    "#новый массив NumPy (Customer’s roaming call cost), содержащий информацию\n",
    "#о расходах каждого клиента в определенный месяц (основываясь на данных\n",
    "#из массива “Customer’s roaming call duration”).\n",
    "price = 1.6\n",
    "C_cost = price * C_duration\n",
    "C_cost"
   ]
  },
  {
   "cell_type": "code",
   "execution_count": 33,
   "metadata": {},
   "outputs": [
    {
     "data": {
      "text/plain": [
       "array([[13753.6, 14963.2,  5376. ,  9408. ,  4569.6, 11782.4]])"
      ]
     },
     "execution_count": 33,
     "metadata": {},
     "output_type": "execute_result"
    }
   ],
   "source": [
    "#7. Курс доллара составляет 28 ₴. Рассчитайте и выведите общие затраты\n",
    "#клиента Andrews в гривнах.\n",
    "usd_uah = 28\n",
    "C_cost[C_names == 'Andrews'] * usd_uah"
   ]
  },
  {
   "cell_type": "code",
   "execution_count": null,
   "metadata": {},
   "outputs": [],
   "source": []
  }
 ],
 "metadata": {
  "kernelspec": {
   "display_name": "Python 3",
   "language": "python",
   "name": "python3"
  },
  "language_info": {
   "codemirror_mode": {
    "name": "ipython",
    "version": 3
   },
   "file_extension": ".py",
   "mimetype": "text/x-python",
   "name": "python",
   "nbconvert_exporter": "python",
   "pygments_lexer": "ipython3",
   "version": "3.8.3"
  }
 },
 "nbformat": 4,
 "nbformat_minor": 4
}
