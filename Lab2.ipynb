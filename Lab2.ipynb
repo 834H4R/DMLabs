{
 "cells": [
  {
   "cell_type": "code",
   "execution_count": 45,
   "metadata": {},
   "outputs": [
    {
     "name": "stdout",
     "output_type": "stream",
     "text": [
      "Michael - IPhone  8 499 $\n",
      "Jake - IPhone  8 499 $\n",
      "Lary - IPhone  7 450 $\n",
      "not avalible models  [4, 9]\n"
     ]
    }
   ],
   "source": [
    "# Создайте основной словарь, содержащий имена продавцов iphone, и\n",
    "#модель. Создайте дополнительный словарь, содержащий названия моделей\n",
    "#и цену. Вывести имена тех продавцов, которые продают модели старше 6 с\n",
    "#ценой не более 500$, модель и цену в порядке убывания цены. Если в\n",
    "#дополнительном словаре есть модели, которые не продаются (отсутствуют\n",
    "#в основном словаре), выведите их названия списком. \n",
    "\n",
    "vendors = { \"Rebert\" : 6,\n",
    "                   \"George\" : 5,\n",
    "                   \"Jeremy\" : 5,\n",
    "                   \"Nancy\"  : 10,\n",
    "                   \"Andrew\" : 11,\n",
    "                   \"Michael\": 8,\n",
    "                   \"Alice\"  : 6,\n",
    "                   \"Mary\"   : 5,\n",
    "                   \"Lars\"   : 10,\n",
    "                   \"Jake\"   : 8,\n",
    "                   \"Lary\"   : 7}\n",
    "models = { 4 : 200,\n",
    "                  5 : 250,\n",
    "                  6 : 300,\n",
    "                  7 : 450,\n",
    "                  8 : 499,\n",
    "                  9 : 630,\n",
    "                 10 : 670,\n",
    "                 11 : 800}\n",
    "not_avalible = []\n",
    "for key,value in vendors.items():\n",
    "    if models.get(value)  < 500 and value > 6 :\n",
    "        print(key, \"- IPhone \", value, models.get(value),\"$\")\n",
    "\n",
    "for key,value in models.items():\n",
    "    if key not in vendors.values():\n",
    "        not_avalible.append(key)\n",
    "print(\"not avalible models \", not_avalible)"
   ]
  },
  {
   "cell_type": "code",
   "execution_count": null,
   "metadata": {},
   "outputs": [],
   "source": []
  }
 ],
 "metadata": {
  "kernelspec": {
   "display_name": "Python 3",
   "language": "python",
   "name": "python3"
  },
  "language_info": {
   "codemirror_mode": {
    "name": "ipython",
    "version": 3
   },
   "file_extension": ".py",
   "mimetype": "text/x-python",
   "name": "python",
   "nbconvert_exporter": "python",
   "pygments_lexer": "ipython3",
   "version": "3.8.3"
  }
 },
 "nbformat": 4,
 "nbformat_minor": 4
}
