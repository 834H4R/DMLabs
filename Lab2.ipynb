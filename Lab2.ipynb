{
 "cells": [
  {
   "cell_type": "code",
   "execution_count": 9,
   "metadata": {},
   "outputs": [
    {
     "name": "stdout",
     "output_type": "stream",
     "text": [
      "Rebert  -  6  -  300\n",
      "George  -  4  -  200\n",
      "Jeremy  -  5  -  250\n",
      "Alice  -  6  -  300\n",
      "Mary  -  5  -  250\n"
     ]
    }
   ],
   "source": [
    "# Создайте основной словарь, содержащий имена продавцов iphone, и\n",
    "#модель. Создайте дополнительный словарь, содержащий названия моделей\n",
    "#и цену. Вывести имена тех продавцов, которые продают модели старше 6 с\n",
    "#ценой не более 500$, модель и цену в порядке убывания цены. Если в\n",
    "#дополнительном словаре есть модели, которые не продаются (отсутствуют\n",
    "#в основном словаре), выведите их названия списком. \n",
    "\n",
    "vendors_models = { \"Rebert\" : 6,\n",
    "                   \"George\" : 4,\n",
    "                   \"Jeremy\" : 5,\n",
    "                   \"Nancy\"  : 10,\n",
    "                   \"Andrew\" : 11,\n",
    "                   \"Michael\": 8,\n",
    "                   \"Alice\"  : 6,\n",
    "                   \"Mary\"   : 5}\n",
    "models_prices = { 4 : 200,\n",
    "                  5 : 250,\n",
    "                  6 : 300,\n",
    "                  7 : 550,\n",
    "                  8 : 580,\n",
    "                  9 : 630,\n",
    "                 10 : 670,\n",
    "                 11 : 800}\n",
    "not_in_dict = []\n",
    "for key,value in vendors_models.items():\n",
    "    if(models_prices.get(value) < 500):\n",
    "        print(key, \" - \", value, \" - \", models_prices.get(value))"
   ]
  },
  {
   "cell_type": "code",
   "execution_count": null,
   "metadata": {},
   "outputs": [],
   "source": []
  }
 ],
 "metadata": {
  "kernelspec": {
   "display_name": "Python 3",
   "language": "python",
   "name": "python3"
  },
  "language_info": {
   "codemirror_mode": {
    "name": "ipython",
    "version": 3
   },
   "file_extension": ".py",
   "mimetype": "text/x-python",
   "name": "python",
   "nbconvert_exporter": "python",
   "pygments_lexer": "ipython3",
   "version": "3.8.3"
  }
 },
 "nbformat": 4,
 "nbformat_minor": 4
}
