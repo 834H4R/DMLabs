{
 "cells": [
  {
   "cell_type": "code",
   "execution_count": 2,
   "metadata": {},
   "outputs": [
    {
     "data": {
      "text/plain": [
       "array([11285, 11408, 11691, ...,  6054,  7563,  7976])"
      ]
     },
     "execution_count": 2,
     "metadata": {},
     "output_type": "execute_result"
    }
   ],
   "source": [
    "#Варіант №12\n",
    "import numpy as np\n",
    "#1. Файл “ratings.csv” зберігає інформацію про клієнтів online-бібліотеки,\n",
    "#книги та оцінки книг читачами: book_id, user_id, rating.\n",
    "#2. Прочитати з файлу відповідну частину стовбця user_id (діапазон строк\n",
    "#задається по варіанту студента, див. Додаток А) у NumPy масив C_id.\n",
    "\n",
    "#початок діапазону за варіантом - 121\n",
    "#кінеці діапазону за варіантом - 24321\n",
    "endpos = 24321-121+1\n",
    "C_id = np.genfromtxt(fname = 'C:\\\\ratings.csv', delimiter=',' , skip_header=120, usecols=1,max_rows=endpos,dtype=\"int32\")\n",
    "C_id"
   ]
  },
  {
   "cell_type": "code",
   "execution_count": 3,
   "metadata": {},
   "outputs": [
    {
     "data": {
      "text/plain": [
       "array([[456, 652, 581, 423, 416],\n",
       "       [432, 612, 632, 604, 621],\n",
       "       [434, 603, 501, 452, 567],\n",
       "       ...,\n",
       "       [476, 680, 555, 655, 598],\n",
       "       [564, 420, 618, 609, 487],\n",
       "       [601, 409, 514, 677, 446]])"
      ]
     },
     "execution_count": 3,
     "metadata": {},
     "output_type": "execute_result"
    }
   ],
   "source": [
    "#3. Виконати генерацію значень NumPy масиву (CRT – Customer Reading\n",
    "#Time), який зберігає інформацію про кількість хвилин, які витратили\n",
    "#клієнти на читання книг, знаходячись безпосередньо на сайті в режимі \n",
    "#онлайн (за кожен з N1 останніх місяців поточного року у діапазоні від M1\n",
    "#до M2). Значення N1, M1, M2 задаються відповідно варіанту студента\n",
    "#(Додаток А).\n",
    "N1 = 5 #місяців\n",
    "M1 = 401 #мінімальна кільцість хвилин для генерації\n",
    "M2 = 685 #максимальна кількість хвилин\n",
    "\n",
    "CRT = np.random.randint(M1,M2,(len(C_id),N1))\n",
    "CRT"
   ]
  },
  {
   "cell_type": "code",
   "execution_count": 4,
   "metadata": {},
   "outputs": [
    {
     "data": {
      "text/plain": [
       "array([[652, 423],\n",
       "       [612, 604],\n",
       "       [603, 452],\n",
       "       ...,\n",
       "       [680, 655],\n",
       "       [420, 609],\n",
       "       [409, 677]])"
      ]
     },
     "execution_count": 4,
     "metadata": {},
     "output_type": "execute_result"
    }
   ],
   "source": [
    "#4. Вивести інформацію щодо кількості хвилин, які витратили клієнти на\n",
    "#читання книг у парні місяці (для парних варіантів студентів) або у непарні\n",
    "#(для непарних варіантів студентів).\n",
    "CRT[::,1::2]"
   ]
  },
  {
   "cell_type": "code",
   "execution_count": 5,
   "metadata": {},
   "outputs": [
    {
     "data": {
      "text/plain": [
       "17748"
      ]
     },
     "execution_count": 5,
     "metadata": {},
     "output_type": "execute_result"
    }
   ],
   "source": [
    "#5. Вивести інформацію по першим N2 (Додаток А) та останнім N3 клієнтам\n",
    "#набору. N3 згенерувати використовуючи відповідну функцію модулю\n",
    "#random.\n",
    "N2 = 10943\n",
    "N3 = np.random.randint(N2,len(CRT))\n",
    "N3"
   ]
  },
  {
   "cell_type": "code",
   "execution_count": 6,
   "metadata": {},
   "outputs": [
    {
     "data": {
      "text/plain": [
       "array([[456, 652, 581, 423, 416],\n",
       "       [432, 612, 632, 604, 621],\n",
       "       [434, 603, 501, 452, 567],\n",
       "       ...,\n",
       "       [519, 612, 455, 470, 490],\n",
       "       [635, 508, 460, 486, 592],\n",
       "       [542, 621, 464, 408, 421]])"
      ]
     },
     "execution_count": 6,
     "metadata": {},
     "output_type": "execute_result"
    }
   ],
   "source": [
    "# Перші 10943 людини \n",
    "CRT[:N2,::]"
   ]
  },
  {
   "cell_type": "code",
   "execution_count": 7,
   "metadata": {},
   "outputs": [
    {
     "data": {
      "text/plain": [
       "array([[601, 409, 514, 677, 446],\n",
       "       [564, 420, 618, 609, 487],\n",
       "       [476, 680, 555, 655, 598],\n",
       "       ...,\n",
       "       [406, 555, 420, 673, 430],\n",
       "       [500, 506, 595, 516, 569],\n",
       "       [491, 581, 492, 600, 637]])"
      ]
     },
     "execution_count": 7,
     "metadata": {},
     "output_type": "execute_result"
    }
   ],
   "source": [
    "#останні N3 людини\n",
    "CRT[len(CRT):N3:-1]"
   ]
  },
  {
   "cell_type": "code",
   "execution_count": 8,
   "metadata": {},
   "outputs": [
    {
     "data": {
      "text/plain": [
       "array([424, 616, 484])"
      ]
     },
     "execution_count": 8,
     "metadata": {},
     "output_type": "execute_result"
    }
   ],
   "source": [
    "#6. Вивести інформацію за перші три місяці для клієнта, user_id якого\n",
    "#знаходиться в позиції N4 у C_id.\n",
    "N4 = 8\n",
    "CRT[C_id[N4],0:3]"
   ]
  },
  {
   "cell_type": "code",
   "execution_count": 9,
   "metadata": {},
   "outputs": [
    {
     "data": {
      "text/plain": [
       "array([428, 474, 426, 422, 615])"
      ]
     },
     "execution_count": 9,
     "metadata": {},
     "output_type": "execute_result"
    }
   ],
   "source": [
    "#7. Використовуючи логічну індексацію вивести інформацію для клієнта з\n",
    "#відповідним user_id (user_id якого знаходиться в позиції N5 у C_id)\n",
    "N5 = 226\n",
    "CRT[C_id[N5]]"
   ]
  },
  {
   "cell_type": "code",
   "execution_count": 10,
   "metadata": {},
   "outputs": [
    {
     "data": {
      "text/plain": [
       "array([615, 422])"
      ]
     },
     "execution_count": 10,
     "metadata": {},
     "output_type": "execute_result"
    }
   ],
   "source": [
    "#8. Для даного читача вивести інформацію за останні 2 місяця.\n",
    "CRT[C_id[N5],-1:-3:-1]"
   ]
  },
  {
   "cell_type": "code",
   "execution_count": 11,
   "metadata": {},
   "outputs": [
    {
     "name": "stdout",
     "output_type": "stream",
     "text": [
      "9246  ;  21217\n"
     ]
    }
   ],
   "source": [
    "#9. Використовуючи логічну індексацію вивести інформацію для клієнтів з\n",
    "#user_id, відмінних від тих, що в позиціях N6, N7 у C_id.\n",
    "N6 = 392\n",
    "N7 = 27\n",
    "print(C_id[N6], ' ; ', C_id[N7])"
   ]
  },
  {
   "cell_type": "code",
   "execution_count": 12,
   "metadata": {},
   "outputs": [
    {
     "data": {
      "text/plain": [
       "array([[456, 652, 581, 423, 416],\n",
       "       [432, 612, 632, 604, 621],\n",
       "       [434, 603, 501, 452, 567],\n",
       "       ...,\n",
       "       [476, 680, 555, 655, 598],\n",
       "       [564, 420, 618, 609, 487],\n",
       "       [601, 409, 514, 677, 446]])"
      ]
     },
     "execution_count": 12,
     "metadata": {},
     "output_type": "execute_result"
    }
   ],
   "source": [
    "selected = CRT[(C_id != C_id[N6])& (C_id != C_id[N7])]\n",
    "selected"
   ]
  },
  {
   "cell_type": "code",
   "execution_count": 13,
   "metadata": {},
   "outputs": [
    {
     "data": {
      "text/plain": [
       "array([456, 652, 581, ..., 601, 514, 677])"
      ]
     },
     "execution_count": 13,
     "metadata": {},
     "output_type": "execute_result"
    }
   ],
   "source": [
    "#10.Для даних читачів вивести всі дані, про кількість хвилин, які витратили\n",
    "#клієнти на читання книг, знаходячись безпосередньо на сайті в режимі\n",
    "#онлайн більше ніж M3.\n",
    "M3 = 446\n",
    "selected[selected > M3]"
   ]
  },
  {
   "cell_type": "code",
   "execution_count": 14,
   "metadata": {},
   "outputs": [
    {
     "data": {
      "text/plain": [
       "array([456, 652, 581, ..., 601, 514, 677])"
      ]
     },
     "execution_count": 14,
     "metadata": {},
     "output_type": "execute_result"
    }
   ],
   "source": [
    "target = CRT[(C_id != C_id[N6])& (C_id != C_id[N7])]\n",
    "target[target > M3]"
   ]
  },
  {
   "cell_type": "code",
   "execution_count": 52,
   "metadata": {},
   "outputs": [
    {
     "data": {
      "text/plain": [
       "array([43682, 53864, 53060, 54846, 55515, 52773, 54009, 54660, 55372,\n",
       "       53956, 55257, 53850, 54877, 55052, 55698, 54957, 53533, 53608,\n",
       "       53895, 55173, 55527, 54584, 53533, 53963, 53909, 54346, 54644,\n",
       "       54429, 53414, 53821, 53573, 53874, 54228, 54274, 53402, 54657,\n",
       "       54224, 55031, 54376, 52847, 55642, 53366, 53666, 53727, 54636,\n",
       "       53913, 54209, 54303, 54754, 55780, 53826, 54989, 53810, 52098,\n",
       "       53537, 54120, 54825, 53742, 54207, 54473, 55164, 53330, 54828,\n",
       "       54734, 55397, 54632, 56424, 54228, 54011, 54301, 53938, 54941,\n",
       "       53502, 55439, 53822, 53609, 53849, 54703, 54490, 53761, 54687,\n",
       "       54089, 52829, 55434, 55136, 55134, 53890, 53458, 53003, 55283,\n",
       "       53806, 53554, 55326, 53495, 52777, 53822, 53711, 53927, 54131,\n",
       "       53103, 53617, 54017, 54563, 53057, 53706, 54621, 53352, 54049,\n",
       "       53554, 55819, 54311, 54174, 54612, 53955, 55126, 54121, 54289,\n",
       "       52776, 54596, 54886, 54548, 54975, 54424, 54537, 53919, 52450,\n",
       "       55231, 55638, 53469, 54597, 54250, 53207, 53472, 53705, 54044,\n",
       "       54459, 54000, 54026, 54692, 56058, 54852, 54582, 54285, 54143,\n",
       "       54031, 52242, 54038, 53099, 53623, 55276, 55742, 54284, 54587,\n",
       "       54932, 56619, 55542, 54103, 54042, 54086, 55197, 53317, 54535,\n",
       "       53823, 53158, 54040, 54356, 53402, 54279, 55053, 54676, 54419,\n",
       "       52561, 54207, 54634, 54127, 53288, 54259, 54270, 54774, 53691,\n",
       "       54335, 53607, 55237, 53295, 53428, 53583, 53097, 54683, 52840,\n",
       "       54314, 53397, 53735, 53906, 52989, 54818, 54652, 53280, 54906,\n",
       "       55047, 55318, 54607, 54541, 54554, 53047, 53184, 54938, 53349,\n",
       "       53912, 53431, 54927, 53168, 52272, 54115, 53678, 54372, 52816,\n",
       "       52832, 53161, 54412, 53749, 54743, 54127, 53911, 53763, 54114,\n",
       "       54085, 53858, 52849, 54529, 53400, 54386, 53702, 55023, 52487,\n",
       "       54413, 54158, 53326, 54179, 54320, 54351, 54213, 53602, 11013])"
      ]
     },
     "execution_count": 52,
     "metadata": {},
     "output_type": "execute_result"
    }
   ],
   "source": [
    "#11.Прочитати з файлу частину стовбця book_id відповідно до частини user_id,\n",
    "#сформувати NumPy масив В_id. Для кожної книги з В_id на основі даних з\n",
    "#CRT розрахувати загальну кількість хвилин, яку на неї витратили клієнти у\n",
    "#першому місяці.\n",
    "B_id = np.genfromtxt(fname = 'C:\\\\ratings.csv', delimiter=',' , skip_header=120, usecols=0,max_rows=endpos,dtype=\"int32\")\n",
    "books = np.unique(B_id)\n",
    "time_spent = np.full(len(books),0)\n",
    "for i in range(len(books)):\n",
    "    time_spent[i] = np.sum(CRT[(B_id == books[i]),0])\n",
    "time_spent"
   ]
  },
  {
   "cell_type": "code",
   "execution_count": 53,
   "metadata": {},
   "outputs": [
    {
     "data": {
      "text/plain": [
       "269090"
      ]
     },
     "execution_count": 53,
     "metadata": {},
     "output_type": "execute_result"
    }
   ],
   "source": [
    "#12.Вивести загальну кількість хвилин, що було затрачено на читання книги\n",
    "#всіма клієнтами з порядковим номером N8 (N8= No варіанту*5+No варіанту)\n",
    "#у масиві В_id.\n",
    "N8 = 12*5+12\n",
    "np.sum(CRT[(B_id == N8)])"
   ]
  },
  {
   "cell_type": "code",
   "execution_count": null,
   "metadata": {},
   "outputs": [],
   "source": []
  }
 ],
 "metadata": {
  "kernelspec": {
   "display_name": "Python 3",
   "language": "python",
   "name": "python3"
  },
  "language_info": {
   "codemirror_mode": {
    "name": "ipython",
    "version": 3
   },
   "file_extension": ".py",
   "mimetype": "text/x-python",
   "name": "python",
   "nbconvert_exporter": "python",
   "pygments_lexer": "ipython3",
   "version": "3.8.3"
  }
 },
 "nbformat": 4,
 "nbformat_minor": 4
}
