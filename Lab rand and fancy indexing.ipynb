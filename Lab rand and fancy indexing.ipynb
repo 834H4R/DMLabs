{
 "cells": [
  {
   "cell_type": "code",
   "execution_count": 1,
   "metadata": {},
   "outputs": [],
   "source": [
    "import numpy as np"
   ]
  },
  {
   "cell_type": "code",
   "execution_count": 7,
   "metadata": {},
   "outputs": [
    {
     "data": {
      "text/plain": [
       "array([[1752, 1380, 1701, ..., 3764, 2525, 2697],\n",
       "       [3960, 2688, 1456, ..., 1036, 1973, 3754],\n",
       "       [1835, 3747, 3916, ..., 3941, 2233, 2551],\n",
       "       ...,\n",
       "       [2721, 1495, 2414, ..., 1142, 3207, 2977],\n",
       "       [2816, 2510, 1205, ..., 3203, 3054, 3483],\n",
       "       [2382, 1449, 3937, ..., 3563, 2556, 1349]])"
      ]
     },
     "execution_count": 7,
     "metadata": {},
     "output_type": "execute_result"
    }
   ],
   "source": [
    "#вариант 12\n",
    "n = 47 #клиентов\n",
    "m = 98 #месяцев\n",
    "C_duration = np.random.randint(1000,4000,(n,m))\n",
    "C_duration"
   ]
  },
  {
   "cell_type": "code",
   "execution_count": 18,
   "metadata": {},
   "outputs": [],
   "source": [
    "i = np.array([[2,4],[7,8]])\n",
    "j = np.array([[0,2],[9,6]])"
   ]
  },
  {
   "cell_type": "code",
   "execution_count": null,
   "metadata": {},
   "outputs": [],
   "source": []
  },
  {
   "cell_type": "code",
   "execution_count": 36,
   "metadata": {},
   "outputs": [
    {
     "data": {
      "text/plain": [
       "array([[1835, 1356],\n",
       "       [1903, 3170]])"
      ]
     },
     "execution_count": 36,
     "metadata": {},
     "output_type": "execute_result"
    }
   ],
   "source": [
    "C_duration[i,j]"
   ]
  },
  {
   "cell_type": "code",
   "execution_count": null,
   "metadata": {},
   "outputs": [],
   "source": []
  },
  {
   "cell_type": "code",
   "execution_count": null,
   "metadata": {},
   "outputs": [],
   "source": []
  }
 ],
 "metadata": {
  "kernelspec": {
   "display_name": "Python 3",
   "language": "python",
   "name": "python3"
  },
  "language_info": {
   "codemirror_mode": {
    "name": "ipython",
    "version": 3
   },
   "file_extension": ".py",
   "mimetype": "text/x-python",
   "name": "python",
   "nbconvert_exporter": "python",
   "pygments_lexer": "ipython3",
   "version": "3.8.3"
  }
 },
 "nbformat": 4,
 "nbformat_minor": 4
}
